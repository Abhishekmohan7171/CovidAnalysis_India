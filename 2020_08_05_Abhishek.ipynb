{
  "nbformat": 4,
  "nbformat_minor": 0,
  "metadata": {
    "colab": {
      "name": "2020_08_05_Abhishek_Lesson0",
      "provenance": [],
      "collapsed_sections": [],
      "toc_visible": true
    },
    "kernelspec": {
      "name": "python3",
      "display_name": "Python 3"
    }
  },
  "cells": [
    {
      "cell_type": "markdown",
      "metadata": {
        "id": "W0l8coGdmyaI",
        "colab_type": "text"
      },
      "source": [
        "# Lesson 0: COVID-19 Outbreak Analysis"
      ]
    },
    {
      "cell_type": "markdown",
      "metadata": {
        "id": "wf5ibdMS8C8W",
        "colab_type": "text"
      },
      "source": [
        "### Teacher-Student Activities\n",
        "\n",
        "We all know that coronavrius is spreading on a daily basis in India. So, let's try to visualise how fast it is spreading.\n",
        "\n",
        "First, let's look at the dashboard created by Johns Hopkins University. You can look at the following live dashboard to see the real-time trend.\n",
        "\n",
        "[COVID-19 Live Dashboard](https://www.arcgis.com/apps/opsdashboard/index.html#/bda7594740fd40299423467b48e9ecf6)\n",
        "\n",
        "Now, let's create a similar map for India using Python to visualise the most affected states in India due to coronavirus. After the class, you can share it with your parents, relatives and friends by sending them the link to the map."
      ]
    },
    {
      "cell_type": "markdown",
      "metadata": {
        "id": "LH4QfpXOmwyk",
        "colab_type": "text"
      },
      "source": [
        "---"
      ]
    },
    {
      "cell_type": "markdown",
      "metadata": {
        "id": "ZdRaRNsDu37s",
        "colab_type": "text"
      },
      "source": [
        "**At this point, the student should share/present their screen with the teacher.**"
      ]
    },
    {
      "cell_type": "markdown",
      "metadata": {
        "id": "4vbg610OmKQj",
        "colab_type": "text"
      },
      "source": [
        "---"
      ]
    },
    {
      "cell_type": "markdown",
      "metadata": {
        "id": "L_Opp5fyeA6V",
        "colab_type": "text"
      },
      "source": [
        "#### Activity 1: Run Source Code\n",
        "\n",
        "This is the source code for the map to be created. You will learn to write it after signing up for the applied tech course. Right now, you just have to execute the code."
      ]
    },
    {
      "cell_type": "code",
      "metadata": {
        "id": "fbsMjhp2vZlE",
        "colab_type": "code",
        "colab": {
          "base_uri": "https://localhost:8080/",
          "height": 474
        },
        "outputId": "380530f3-403e-4a1a-ce32-a0a2c3d16407"
      },
      "source": [
        "# Student Action: Run the code below.\n",
        "# Download data\n",
        "!git clone https://github.com/CSSEGISandData/COVID-19.git\n",
        "\n",
        "# Install 'geocoder'\n",
        "!pip install geocoder\n",
        "\n",
        "# Importing modules\n",
        "import pandas as pd  \n",
        "import matplotlib.pyplot as plt \n",
        "import seaborn as sns\n",
        "import datetime \n",
        "import geocoder\n",
        "import folium\n",
        "from folium import plugins \n",
        "\n",
        "# DataFrame for the world\n",
        "conf_csv = '/content/COVID-19/csse_covid_19_data/csse_covid_19_time_series/time_series_covid19_confirmed_global.csv'\n",
        "conf_df = pd.read_csv(conf_csv)\n",
        "grouped_conf_df = conf_df.groupby(by = ['Country/Region'], as_index = False).sum()\n",
        "\n",
        "# DataFrame for India\n",
        "india_df = pd.read_csv(\"https://api.covid19india.org/csv/latest/state_wise.csv\")\n",
        "india_df = india_df.iloc[1:, :]\n",
        "state_latitudes = []\n",
        "state_longitudes = []\n",
        "for i in india_df.index:\n",
        "    state = india_df['State'][i]\n",
        "    state_lat = geocoder.osm(state).lat\n",
        "    state_lng = geocoder.osm(state).lng\n",
        "    state_latitudes.append(state_lat)\n",
        "    state_longitudes.append(state_lng)\n",
        "\n",
        "state_latitudes = pd.Series(data = state_latitudes, index = india_df.index)\n",
        "state_longitudes = pd.Series(data = state_longitudes, index = india_df.index)\n",
        "india_df['Latitude'] = state_latitudes\n",
        "india_df['Longitude'] = state_longitudes\n",
        "\n",
        "# DataFrame for the US\n",
        "us_conf_csv = '/content/COVID-19/csse_covid_19_data/csse_covid_19_time_series/time_series_covid19_confirmed_US.csv'\n",
        "us_conf_df = pd.read_csv(us_conf_csv)\n",
        "us_conf_df = us_conf_df.dropna()\n",
        "grouped_us_conf_df = us_conf_df.groupby(by = ['Combined_Key'], as_index = False).sum()\n",
        "\n",
        "# Function to get total confirmed cases in a country\n",
        "def get_total_confirmed_cases_for_country(country_name):\n",
        "    total_cases_country = conf_df[conf_df['Country/Region'] == country_name].iloc[:, 4:].apply(sum, axis = 0)\n",
        "    total_cases_country.index = pd.to_datetime(total_cases_country.index)\n",
        "    return total_cases_country\n",
        "\n",
        "# Function to get total confirmed cases in the world\n",
        "def get_total_confirmed_global_cases():\n",
        "    global_cases = conf_df.iloc[:, 4:].apply(sum, axis=0)\n",
        "    global_cases.index = pd.to_datetime(global_cases.index)\n",
        "    return global_cases\n",
        "\n",
        "# Function to create a line plot\n",
        "def line_plot(your_name, plot_background, fig_width, fig_height, country_name, colour, linewidth, markertype):\n",
        "    dt_series = None\n",
        "    if country_name != 'global':\n",
        "        dt_series = get_total_confirmed_cases_for_country(country_name)\n",
        "    else:\n",
        "        dt_series = get_total_confirmed_global_cases()\n",
        "    plt.style.use(plot_background)\n",
        "    plt.figure(figsize = (fig_width, fig_height))\n",
        "    plt.title(f'{country_name.upper()}: Total Coronavirus Cases Reported\\nCreated by {your_name.upper()}\\nPowered by WhiteHat Jr', fontsize = 16)\n",
        "    plt.plot(dt_series.index, dt_series, c = colour, lw = linewidth, marker = markertype, markersize = 7)\n",
        "    plt.xticks(rotation = 45)\n",
        "    plt.ylabel(\"Total Cases\")\n",
        "    plt.grid(linestyle='--', c='grey')\n",
        "    plt.show()\n",
        "\n",
        "# Add minimap\n",
        "def add_minimap(map_name):\n",
        "    # Plugin for mini map\n",
        "    minimap = plugins.MiniMap(toggle_display = True)\n",
        "    map_name.add_child(minimap) # Add minimap\n",
        "    plugins.ScrollZoomToggler().add_to(map_name) # Add scroll zoom toggler to map\n",
        "    plugins.Fullscreen(position='topright').add_to(map_name) # Add full screen button to map\n",
        "\n",
        "# Add title to map\n",
        "def add_title(map_name, country, your_name):\n",
        "    title_html = '''\n",
        "        <h2 align=\"center\" style=\"font-size:20px\"><b>Coronavirus Total Confirmed Cases in {}</b></h2>\n",
        "        <h4 align=\"center\" style=\"font-size:16px\"><i>Created by</i> {}</h4>\n",
        "        <h4 align=\"center\" style=\"font-size:16px\"><i>Powered by</i>\n",
        "            <a href=\"https://www.whitehatjr.com/\">WhiteHat Jr</a>\n",
        "        </h4>\n",
        "             '''.format(country, your_name.upper())   \n",
        "    return map_name.get_root().html.add_child(folium.Element(title_html))\n",
        "\n",
        "# Function to create folium maps using for India, US and the world\n",
        "def folium_map_with_circles(your_name, country, map_width, map_height, left_margin, top_margin, map_tile, zoom, circle_color, minimap):\n",
        "    last_col = conf_df.columns[-1]\n",
        "    if country == 'India':\n",
        "        india_map = folium.Map(location = [22.3511148, 78.6677428], \n",
        "                               width = map_width, height = map_height,\n",
        "                               left = f\"{left_margin}%\", top = f\"{top_margin}%\",\n",
        "                               tiles = map_tile, zoom_start = zoom)\n",
        "        \n",
        "        if minimap == True:\n",
        "            add_minimap(india_map)\n",
        "    \n",
        "        add_title(india_map, country, your_name)    \n",
        "        for i in india_df.index:\n",
        "            folium.Circle(radius = float(india_df.loc[i, 'Confirmed']) / 1.25,\n",
        "                          location = [india_df.loc[i, 'Latitude'], india_df.loc[i, 'Longitude']],\n",
        "                          popup = \"{}\\n {}\\n on {}\".format(india_df.loc[i, 'State'], \n",
        "                                                          india_df.loc[i, 'Confirmed'], \n",
        "                                                          india_df.loc[i, 'Last_Updated_Time']),\n",
        "                          \n",
        "                          color = circle_color,\n",
        "                          fill = True).add_to(india_map)\n",
        "        return india_map\n",
        "\n",
        "    elif country == 'US':\n",
        "        us_map = folium.Map(location = [39.381266, -97.922211], \n",
        "                            width = map_width, height = map_height, \n",
        "                            left = f\"{left_margin}%\", top = f\"{top_margin}%\",\n",
        "                            tiles = map_tile, zoom_start = zoom)\n",
        "        if minimap == True:\n",
        "            add_minimap(us_map)\n",
        "        \n",
        "        add_title(us_map, country, your_name)\n",
        "        for i in grouped_us_conf_df.index:\n",
        "            folium.Circle(location = [grouped_us_conf_df.loc[i, 'Lat'], grouped_us_conf_df.loc[i, 'Long_']], \n",
        "                          radius = int(grouped_us_conf_df.loc[i, last_col]), \n",
        "                          popup = \"{}\\n {}\\n on {}\".format(grouped_us_conf_df.loc[i, 'Combined_Key'],\n",
        "                                                          grouped_us_conf_df.loc[i, last_col],\n",
        "                                                          last_col),\n",
        "                          color = circle_color,\n",
        "                          fill = True).add_to(us_map)\n",
        "        return us_map\n",
        "    \n",
        "    elif country == 'World':\n",
        "        world_map = folium.Map(location = [0, 0], \n",
        "                            width = map_width, height = map_height, \n",
        "                            left = f\"{left_margin}%\", top = f\"{top_margin}%\",\n",
        "                            tiles = map_tile, zoom_start = zoom)\n",
        "        if minimap == True:\n",
        "            add_minimap(world_map)\n",
        "        \n",
        "        add_title(world_map, country, your_name)\n",
        "        for i in grouped_conf_df.index:\n",
        "            folium.Circle(location = [grouped_conf_df.loc[i, 'Lat'], grouped_conf_df.loc[i, 'Long']], \n",
        "                          radius = int(grouped_conf_df.loc[i, last_col]) / 2, \n",
        "                          popup = \"{}\\n {}\\n on {}\".format(grouped_conf_df.loc[i, 'Country/Region'],\n",
        "                                                          grouped_conf_df.loc[i, last_col], \n",
        "                                                          last_col),\n",
        "                          color = circle_color, \n",
        "                          fill = True).add_to(world_map)\n",
        "        return world_map\n",
        "    else:\n",
        "        print(\"\\nWrong input! Enter either India, US or World.\\n\")\n",
        "\n",
        "# Total confirmed cases in the descending order.\n",
        "grouped_conf_df = conf_df.groupby(by='Country/Region', as_index=False).sum()\n",
        "desc_grp_conf_df = grouped_conf_df.sort_values(by=conf_df.columns[-1], ascending=False)\n",
        "\n",
        "# Function to create a bar plot displaying the top 10 countries having the most number of coronavirus confirmed cases.\n",
        "def bar_plot(your_name, num_countries, width, height):\n",
        "    last_col = conf_df.columns[-1]\n",
        "    latest_date = datetime.datetime.strptime(last_col, '%m/%d/%y').strftime('%B %d, %Y') # Modify the latest date in the 'Month DD, YYYY' format.\n",
        "    plt.figure(figsize = (width, height))\n",
        "    plt.title(f'Top {num_countries} Countries with Highest COVID-19 Confirmed Cases\\nCreated by {your_name.upper()}\\nPowered by WhiteHat Jr', \n",
        "              fontsize = 16)\n",
        "    sns.barplot(desc_grp_conf_df[last_col].head(num_countries), desc_grp_conf_df['Country/Region'].head(num_countries), orient = 'h')\n",
        "    plt.xlabel(f'Total Confirmed Cases (in millions) as of {latest_date}')\n",
        "    plt.show()\n",
        "\n",
        "# Non-cumulative Confirmed Cases.\n",
        "non_cum_conf_df = desc_grp_conf_df.iloc[:, :4]\n",
        "for i in range(len(desc_grp_conf_df.columns[3:]) - 1):\n",
        "    series = desc_grp_conf_df[desc_grp_conf_df.columns[3 + (i + 1) ]] - desc_grp_conf_df[desc_grp_conf_df.columns[3 + i]]\n",
        "    non_cum_conf_df[desc_grp_conf_df.columns[3 + (i + 1)]] = series\n",
        "\n",
        "# Function to get the total non-cumulative confirmed cases in a country.\n",
        "def get_total_daily_confirmed_cases_for_country(country_name):\n",
        "    total_daily_cases = non_cum_conf_df[non_cum_conf_df['Country/Region'] == country_name].iloc[:, 4:].apply(sum, axis = 0)\n",
        "    total_daily_cases.index = pd.to_datetime(total_daily_cases.index)\n",
        "    return total_daily_cases\n",
        "\n",
        "# Line plot for the daily (non-cumulative) confirmed cases in various countries.\n",
        "def daily_cases_line_plot(your_name, num_countries, width, height):\n",
        "    plt.figure(figsize=(width, height))\n",
        "    plt.title(f'Non-Cumulative COVID-19 Confirmed Cases\\nCreated by {your_name.upper()}\\nPowered by WhiteHat Jr', fontsize = 16)\n",
        "    for region in non_cum_conf_df.iloc[:num_countries, :]['Country/Region']:\n",
        "        total_conf_cases = get_total_daily_confirmed_cases_for_country(region)\n",
        "        plt.plot(total_conf_cases.index[53:], total_conf_cases[53:], lw=2.5, label=region)\n",
        "    plt.xticks(rotation=45)\n",
        "    plt.legend()\n",
        "    plt.grid('major', linestyle='--', c='grey')\n",
        "    plt.show()"
      ],
      "execution_count": null,
      "outputs": [
        {
          "output_type": "stream",
          "text": [
            "Cloning into 'COVID-19'...\n",
            "remote: Enumerating objects: 21, done.\u001b[K\n",
            "remote: Counting objects: 100% (21/21), done.\u001b[K\n",
            "remote: Compressing objects: 100% (12/12), done.\u001b[K\n",
            "remote: Total 44167 (delta 10), reused 16 (delta 9), pack-reused 44146\u001b[K\n",
            "Receiving objects: 100% (44167/44167), 336.15 MiB | 15.31 MiB/s, done.\n",
            "Resolving deltas: 100% (27367/27367), done.\n",
            "Checking out files: 100% (540/540), done.\n",
            "Collecting geocoder\n",
            "\u001b[?25l  Downloading https://files.pythonhosted.org/packages/4f/6b/13166c909ad2f2d76b929a4227c952630ebaf0d729f6317eb09cbceccbab/geocoder-1.38.1-py2.py3-none-any.whl (98kB)\n",
            "\u001b[K     |████████████████████████████████| 102kB 2.3MB/s \n",
            "\u001b[?25hRequirement already satisfied: six in /usr/local/lib/python3.6/dist-packages (from geocoder) (1.15.0)\n",
            "Requirement already satisfied: click in /usr/local/lib/python3.6/dist-packages (from geocoder) (7.1.2)\n",
            "Requirement already satisfied: requests in /usr/local/lib/python3.6/dist-packages (from geocoder) (2.23.0)\n",
            "Requirement already satisfied: future in /usr/local/lib/python3.6/dist-packages (from geocoder) (0.16.0)\n",
            "Collecting ratelim\n",
            "  Downloading https://files.pythonhosted.org/packages/f2/98/7e6d147fd16a10a5f821db6e25f192265d6ecca3d82957a4fdd592cad49c/ratelim-0.1.6-py2.py3-none-any.whl\n",
            "Requirement already satisfied: certifi>=2017.4.17 in /usr/local/lib/python3.6/dist-packages (from requests->geocoder) (2020.6.20)\n",
            "Requirement already satisfied: idna<3,>=2.5 in /usr/local/lib/python3.6/dist-packages (from requests->geocoder) (2.10)\n",
            "Requirement already satisfied: chardet<4,>=3.0.2 in /usr/local/lib/python3.6/dist-packages (from requests->geocoder) (3.0.4)\n",
            "Requirement already satisfied: urllib3!=1.25.0,!=1.25.1,<1.26,>=1.21.1 in /usr/local/lib/python3.6/dist-packages (from requests->geocoder) (1.24.3)\n",
            "Requirement already satisfied: decorator in /usr/local/lib/python3.6/dist-packages (from ratelim->geocoder) (4.4.2)\n",
            "Installing collected packages: ratelim, geocoder\n",
            "Successfully installed geocoder-1.38.1 ratelim-0.1.6\n"
          ],
          "name": "stdout"
        },
        {
          "output_type": "stream",
          "text": [
            "/usr/local/lib/python3.6/dist-packages/statsmodels/tools/_testing.py:19: FutureWarning: pandas.util.testing is deprecated. Use the functions in the public API at pandas.testing instead.\n",
            "  import pandas.util.testing as tm\n"
          ],
          "name": "stderr"
        }
      ]
    },
    {
      "cell_type": "markdown",
      "metadata": {
        "id": "gg0S_PoPIWNa",
        "colab_type": "text"
      },
      "source": [
        "---"
      ]
    },
    {
      "cell_type": "markdown",
      "metadata": {
        "id": "pbKvEaCufa-p",
        "colab_type": "text"
      },
      "source": [
        "#### Activity 2: Line Plot^\n",
        "\n",
        "Let's create a line plot to visualise the total number of confirmed cases in India till yesterday. For the line plot, the dataset that we have on coronavirus is maintained at Johns Hopkins University which gets according to the US time. Hence, we have data updated till yesterday. \n",
        "\n",
        "To view this dataset, write `conf_df[conf_df['Country/Region'] == 'India']` in the code cell below."
      ]
    },
    {
      "cell_type": "code",
      "metadata": {
        "id": "qpXGILXhk64L",
        "colab_type": "code",
        "colab": {
          "base_uri": "https://localhost:8080/",
          "height": 126
        },
        "outputId": "9aa6e068-501d-460c-836f-309c10550627"
      },
      "source": [
        "# Student Action: Write conf_df[conf_df['Country/Region'] == 'India'] to view the dataset for India that will be used to create a line plot.\n",
        "conf_df[conf_df['Country/Region'] == 'India']"
      ],
      "execution_count": null,
      "outputs": [
        {
          "output_type": "execute_result",
          "data": {
            "text/html": [
              "<div>\n",
              "<style scoped>\n",
              "    .dataframe tbody tr th:only-of-type {\n",
              "        vertical-align: middle;\n",
              "    }\n",
              "\n",
              "    .dataframe tbody tr th {\n",
              "        vertical-align: top;\n",
              "    }\n",
              "\n",
              "    .dataframe thead th {\n",
              "        text-align: right;\n",
              "    }\n",
              "</style>\n",
              "<table border=\"1\" class=\"dataframe\">\n",
              "  <thead>\n",
              "    <tr style=\"text-align: right;\">\n",
              "      <th></th>\n",
              "      <th>Province/State</th>\n",
              "      <th>Country/Region</th>\n",
              "      <th>Lat</th>\n",
              "      <th>Long</th>\n",
              "      <th>1/22/20</th>\n",
              "      <th>1/23/20</th>\n",
              "      <th>1/24/20</th>\n",
              "      <th>1/25/20</th>\n",
              "      <th>1/26/20</th>\n",
              "      <th>1/27/20</th>\n",
              "      <th>1/28/20</th>\n",
              "      <th>1/29/20</th>\n",
              "      <th>1/30/20</th>\n",
              "      <th>1/31/20</th>\n",
              "      <th>2/1/20</th>\n",
              "      <th>2/2/20</th>\n",
              "      <th>2/3/20</th>\n",
              "      <th>2/4/20</th>\n",
              "      <th>2/5/20</th>\n",
              "      <th>2/6/20</th>\n",
              "      <th>2/7/20</th>\n",
              "      <th>2/8/20</th>\n",
              "      <th>2/9/20</th>\n",
              "      <th>2/10/20</th>\n",
              "      <th>2/11/20</th>\n",
              "      <th>2/12/20</th>\n",
              "      <th>2/13/20</th>\n",
              "      <th>2/14/20</th>\n",
              "      <th>2/15/20</th>\n",
              "      <th>2/16/20</th>\n",
              "      <th>2/17/20</th>\n",
              "      <th>2/18/20</th>\n",
              "      <th>2/19/20</th>\n",
              "      <th>2/20/20</th>\n",
              "      <th>2/21/20</th>\n",
              "      <th>2/22/20</th>\n",
              "      <th>2/23/20</th>\n",
              "      <th>2/24/20</th>\n",
              "      <th>2/25/20</th>\n",
              "      <th>2/26/20</th>\n",
              "      <th>...</th>\n",
              "      <th>6/26/20</th>\n",
              "      <th>6/27/20</th>\n",
              "      <th>6/28/20</th>\n",
              "      <th>6/29/20</th>\n",
              "      <th>6/30/20</th>\n",
              "      <th>7/1/20</th>\n",
              "      <th>7/2/20</th>\n",
              "      <th>7/3/20</th>\n",
              "      <th>7/4/20</th>\n",
              "      <th>7/5/20</th>\n",
              "      <th>7/6/20</th>\n",
              "      <th>7/7/20</th>\n",
              "      <th>7/8/20</th>\n",
              "      <th>7/9/20</th>\n",
              "      <th>7/10/20</th>\n",
              "      <th>7/11/20</th>\n",
              "      <th>7/12/20</th>\n",
              "      <th>7/13/20</th>\n",
              "      <th>7/14/20</th>\n",
              "      <th>7/15/20</th>\n",
              "      <th>7/16/20</th>\n",
              "      <th>7/17/20</th>\n",
              "      <th>7/18/20</th>\n",
              "      <th>7/19/20</th>\n",
              "      <th>7/20/20</th>\n",
              "      <th>7/21/20</th>\n",
              "      <th>7/22/20</th>\n",
              "      <th>7/23/20</th>\n",
              "      <th>7/24/20</th>\n",
              "      <th>7/25/20</th>\n",
              "      <th>7/26/20</th>\n",
              "      <th>7/27/20</th>\n",
              "      <th>7/28/20</th>\n",
              "      <th>7/29/20</th>\n",
              "      <th>7/30/20</th>\n",
              "      <th>7/31/20</th>\n",
              "      <th>8/1/20</th>\n",
              "      <th>8/2/20</th>\n",
              "      <th>8/3/20</th>\n",
              "      <th>8/4/20</th>\n",
              "    </tr>\n",
              "  </thead>\n",
              "  <tbody>\n",
              "    <tr>\n",
              "      <th>131</th>\n",
              "      <td>NaN</td>\n",
              "      <td>India</td>\n",
              "      <td>20.593684</td>\n",
              "      <td>78.96288</td>\n",
              "      <td>0</td>\n",
              "      <td>0</td>\n",
              "      <td>0</td>\n",
              "      <td>0</td>\n",
              "      <td>0</td>\n",
              "      <td>0</td>\n",
              "      <td>0</td>\n",
              "      <td>0</td>\n",
              "      <td>1</td>\n",
              "      <td>1</td>\n",
              "      <td>1</td>\n",
              "      <td>2</td>\n",
              "      <td>3</td>\n",
              "      <td>3</td>\n",
              "      <td>3</td>\n",
              "      <td>3</td>\n",
              "      <td>3</td>\n",
              "      <td>3</td>\n",
              "      <td>3</td>\n",
              "      <td>3</td>\n",
              "      <td>3</td>\n",
              "      <td>3</td>\n",
              "      <td>3</td>\n",
              "      <td>3</td>\n",
              "      <td>3</td>\n",
              "      <td>3</td>\n",
              "      <td>3</td>\n",
              "      <td>3</td>\n",
              "      <td>3</td>\n",
              "      <td>3</td>\n",
              "      <td>3</td>\n",
              "      <td>3</td>\n",
              "      <td>3</td>\n",
              "      <td>3</td>\n",
              "      <td>3</td>\n",
              "      <td>3</td>\n",
              "      <td>...</td>\n",
              "      <td>508953</td>\n",
              "      <td>528859</td>\n",
              "      <td>548318</td>\n",
              "      <td>566840</td>\n",
              "      <td>585481</td>\n",
              "      <td>604641</td>\n",
              "      <td>625544</td>\n",
              "      <td>648315</td>\n",
              "      <td>673165</td>\n",
              "      <td>697413</td>\n",
              "      <td>719664</td>\n",
              "      <td>742417</td>\n",
              "      <td>767296</td>\n",
              "      <td>793802</td>\n",
              "      <td>820916</td>\n",
              "      <td>849522</td>\n",
              "      <td>878254</td>\n",
              "      <td>906752</td>\n",
              "      <td>936181</td>\n",
              "      <td>968857</td>\n",
              "      <td>1003832</td>\n",
              "      <td>1039084</td>\n",
              "      <td>1077781</td>\n",
              "      <td>1118206</td>\n",
              "      <td>1155338</td>\n",
              "      <td>1193078</td>\n",
              "      <td>1238798</td>\n",
              "      <td>1288108</td>\n",
              "      <td>1337024</td>\n",
              "      <td>1385635</td>\n",
              "      <td>1435616</td>\n",
              "      <td>1480073</td>\n",
              "      <td>1531669</td>\n",
              "      <td>1581963</td>\n",
              "      <td>1634746</td>\n",
              "      <td>1695988</td>\n",
              "      <td>1750723</td>\n",
              "      <td>1803695</td>\n",
              "      <td>1855745</td>\n",
              "      <td>1908254</td>\n",
              "    </tr>\n",
              "  </tbody>\n",
              "</table>\n",
              "<p>1 rows × 200 columns</p>\n",
              "</div>"
            ],
            "text/plain": [
              "    Province/State Country/Region        Lat  ...   8/2/20   8/3/20   8/4/20\n",
              "131            NaN          India  20.593684  ...  1803695  1855745  1908254\n",
              "\n",
              "[1 rows x 200 columns]"
            ]
          },
          "metadata": {
            "tags": []
          },
          "execution_count": 2
        }
      ]
    },
    {
      "cell_type": "markdown",
      "metadata": {
        "id": "uObwYzKCHHiK",
        "colab_type": "text"
      },
      "source": [
        "So, in this dataset, we have data for the total confirmed cases in India starting from January 22, 2020. The date given here is in the `MM/DD/YY` format where \n",
        "\n",
        "- `MM` stands for month\n",
        "\n",
        "- `DD` stands for day\n",
        "\n",
        "- `YY` stands for year\n",
        "\n",
        "Now, let's create a line plot. To create a line plot, you need to use the `line_plot()` function which takes the following inputs:\n",
        "\n",
        "- Name of the person who is creating the line plot which should be a text value enclosed within single-quotes (`''`) or double-quotes (`\"\"`).\n",
        "\n",
        "- The background style of the line plot which should be a text value enclosed within single-quotes (`''`) or double-quotes (`\"\"`).. Here is the list of most commonly used background styles:\n",
        "\n",
        "  1. `'dark_background'` (most preferred)\n",
        "\n",
        "  2. `'ggplot'`\n",
        "\n",
        "  3. `'seaborn'`\n",
        "\n",
        "  4. `'fivethirtyeight'`\n",
        "\n",
        "  and many more.\n",
        "\n",
        "- Width of the line plot (numeric value).\n",
        "\n",
        "- Height of the line plot (numeric value).\n",
        "\n",
        "- Name of the country which should be a text value enclosed within single-quotes (`''`) or double-quotes (`\"\"`).\n",
        "\n",
        "- Colour of the lines which should be a text value enclosed within single-quotes (`''`) or double-quotes (`\"\"`). Here's the list of most commonly used colours:\n",
        "\n",
        "  1. `'red'`\n",
        "  \n",
        "  2. `'cyan'` \n",
        "  \n",
        "  3. `'magenta'`\n",
        "\n",
        "  4. `'yellow'`\n",
        "\n",
        "  5. `'green'`\n",
        "\n",
        "- The width of the line (numeric value)\n",
        "\n",
        "- The marker style on the line plot which should be a text value enclosed within single-quotes (`''`) or double-quotes (`\"\"`). Here is the list of the most commonly used marker styles:\n",
        "\n",
        "  1. `'o'` for a circular marker\n",
        "\n",
        "  2. `'*'` for a starred marker\n",
        "\n",
        "  3. `'^'` for a upper triangular marker\n"
      ]
    },
    {
      "cell_type": "code",
      "metadata": {
        "id": "G1HArsXcHNXK",
        "colab_type": "code",
        "colab": {
          "base_uri": "https://localhost:8080/",
          "height": 314
        },
        "outputId": "b1a573d1-5cfd-4bd6-fd10-23ae6d2cc117"
      },
      "source": [
        "# Student Action: Create a line plot for the total confirmed cases in India using the 'line_plot()' function.\n",
        "line_plot('Abhishek','dark_background',18,7,\"India\",\"red\",2,'*') "
      ],
      "execution_count": null,
      "outputs": [
        {
          "output_type": "display_data",
          "data": {
            "image/png": "[encoded data removed]",
            "text/plain": [
              "<Figure size 1296x504 with 1 Axes>"
            ]
          },
          "metadata": {
            "tags": []
          }
        }
      ]
    },
    {
      "cell_type": "markdown",
      "metadata": {
        "id": "2uQJGNR1lJBz",
        "colab_type": "text"
      },
      "source": [
        "**Note:** The `line_plot()` function is NOT a standard Python function. It is a user-defined function created at WhiteHat Jr using Python to simplify the line plot creation process. You will learn to create your own user-defined function in the subsequent classes in this course."
      ]
    },
    {
      "cell_type": "markdown",
      "metadata": {
        "id": "Rt79o-Ork9BO",
        "colab_type": "text"
      },
      "source": [
        "---"
      ]
    },
    {
      "cell_type": "markdown",
      "metadata": {
        "id": "bb1A1XTZDyxv",
        "colab_type": "text"
      },
      "source": [
        "#### Activity 3: Map^^\n",
        "\n",
        "Let's create a map for India. For this, we are going to use a dataset showing statewise data for India. To view the first five rows for the total confirmed cases in India, call the `head()` function on the `india_df` variable which stores the data."
      ]
    },
    {
      "cell_type": "code",
      "metadata": {
        "id": "zcbuqGnITevO",
        "colab_type": "code",
        "colab": {
          "base_uri": "https://localhost:8080/",
          "height": 501
        },
        "outputId": "3424eed3-6c12-443a-ad9d-a43efa01300f"
      },
      "source": [
        "# Student Action: List the first five rows of the dataset containing the total number of confirmed cases in India. \n",
        "india_df.head()"
      ],
      "execution_count": null,
      "outputs": [
        {
          "output_type": "execute_result",
          "data": {
            "text/html": [
              "<div>\n",
              "<style scoped>\n",
              "    .dataframe tbody tr th:only-of-type {\n",
              "        vertical-align: middle;\n",
              "    }\n",
              "\n",
              "    .dataframe tbody tr th {\n",
              "        vertical-align: top;\n",
              "    }\n",
              "\n",
              "    .dataframe thead th {\n",
              "        text-align: right;\n",
              "    }\n",
              "</style>\n",
              "<table border=\"1\" class=\"dataframe\">\n",
              "  <thead>\n",
              "    <tr style=\"text-align: right;\">\n",
              "      <th></th>\n",
              "      <th>State</th>\n",
              "      <th>Confirmed</th>\n",
              "      <th>Recovered</th>\n",
              "      <th>Deaths</th>\n",
              "      <th>Active</th>\n",
              "      <th>Last_Updated_Time</th>\n",
              "      <th>Migrated_Other</th>\n",
              "      <th>State_code</th>\n",
              "      <th>Delta_Confirmed</th>\n",
              "      <th>Delta_Recovered</th>\n",
              "      <th>Delta_Deaths</th>\n",
              "      <th>State_Notes</th>\n",
              "      <th>Latitude</th>\n",
              "      <th>Longitude</th>\n",
              "    </tr>\n",
              "  </thead>\n",
              "  <tbody>\n",
              "    <tr>\n",
              "      <th>1</th>\n",
              "      <td>Maharashtra</td>\n",
              "      <td>457956</td>\n",
              "      <td>299356</td>\n",
              "      <td>16142</td>\n",
              "      <td>142151</td>\n",
              "      <td>04/08/2020 20:55:49</td>\n",
              "      <td>307</td>\n",
              "      <td>MH</td>\n",
              "      <td>0</td>\n",
              "      <td>0</td>\n",
              "      <td>0</td>\n",
              "      <td>307 cases are marked as non-covid deaths in MH...</td>\n",
              "      <td>19.531932</td>\n",
              "      <td>76.055457</td>\n",
              "    </tr>\n",
              "    <tr>\n",
              "      <th>2</th>\n",
              "      <td>Tamil Nadu</td>\n",
              "      <td>268285</td>\n",
              "      <td>208784</td>\n",
              "      <td>4349</td>\n",
              "      <td>55152</td>\n",
              "      <td>04/08/2020 20:55:51</td>\n",
              "      <td>0</td>\n",
              "      <td>TN</td>\n",
              "      <td>0</td>\n",
              "      <td>0</td>\n",
              "      <td>0</td>\n",
              "      <td>[July 22]: 444 backdated deceased entries adde...</td>\n",
              "      <td>10.909433</td>\n",
              "      <td>78.366535</td>\n",
              "    </tr>\n",
              "    <tr>\n",
              "      <th>3</th>\n",
              "      <td>Delhi</td>\n",
              "      <td>139156</td>\n",
              "      <td>125226</td>\n",
              "      <td>4033</td>\n",
              "      <td>9897</td>\n",
              "      <td>04/08/2020 18:50:39</td>\n",
              "      <td>0</td>\n",
              "      <td>DL</td>\n",
              "      <td>0</td>\n",
              "      <td>0</td>\n",
              "      <td>0</td>\n",
              "      <td>[July 14]: Value for the total tests conducted...</td>\n",
              "      <td>28.651718</td>\n",
              "      <td>77.221939</td>\n",
              "    </tr>\n",
              "    <tr>\n",
              "      <th>4</th>\n",
              "      <td>Karnataka</td>\n",
              "      <td>145830</td>\n",
              "      <td>69272</td>\n",
              "      <td>2704</td>\n",
              "      <td>73845</td>\n",
              "      <td>04/08/2020 20:55:53</td>\n",
              "      <td>9</td>\n",
              "      <td>KA</td>\n",
              "      <td>0</td>\n",
              "      <td>0</td>\n",
              "      <td>0</td>\n",
              "      <td>9 cases are classified as non-covid related de...</td>\n",
              "      <td>14.520390</td>\n",
              "      <td>75.722352</td>\n",
              "    </tr>\n",
              "    <tr>\n",
              "      <th>5</th>\n",
              "      <td>Andhra Pradesh</td>\n",
              "      <td>176333</td>\n",
              "      <td>95625</td>\n",
              "      <td>1604</td>\n",
              "      <td>79104</td>\n",
              "      <td>04/08/2020 19:55:40</td>\n",
              "      <td>0</td>\n",
              "      <td>AP</td>\n",
              "      <td>0</td>\n",
              "      <td>0</td>\n",
              "      <td>0</td>\n",
              "      <td>Total includes patients from other states and ...</td>\n",
              "      <td>15.924091</td>\n",
              "      <td>80.186381</td>\n",
              "    </tr>\n",
              "  </tbody>\n",
              "</table>\n",
              "</div>"
            ],
            "text/plain": [
              "            State  Confirmed  ...   Latitude  Longitude\n",
              "1     Maharashtra     457956  ...  19.531932  76.055457\n",
              "2      Tamil Nadu     268285  ...  10.909433  78.366535\n",
              "3           Delhi     139156  ...  28.651718  77.221939\n",
              "4       Karnataka     145830  ...  14.520390  75.722352\n",
              "5  Andhra Pradesh     176333  ...  15.924091  80.186381\n",
              "\n",
              "[5 rows x 14 columns]"
            ]
          },
          "metadata": {
            "tags": []
          },
          "execution_count": 4
        }
      ]
    },
    {
      "cell_type": "markdown",
      "metadata": {
        "id": "eEfwX2AmVl2u",
        "colab_type": "text"
      },
      "source": [
        "Let's now create a map for India to show the state-wise total confirmed cases of coronavirus. Using the latitude and longitude values (which are numeric values with decimal), we can create circular markers on a map. For this, you need to use the `folium_map_with_circles()` function which takes the following inputs:\n",
        "\n",
        "- Name of the person who is creating the map which should be a text value enclosed within single-quotes (`''`) or double-quotes (`\"\"`).\n",
        "\n",
        "- Name of the country for which a map needs to be created. It should be a text value enclosed within single-quotes (`''`) or double-quotes (`\"\"`). For the map only three values are supported:\n",
        "\n",
        "  1. `'India'`\n",
        "\n",
        "  2. `'US'`\n",
        "\n",
        "  3. `'World'`\n",
        "\n",
        "- Width of the map (numeric value).\n",
        "\n",
        "- Height of the map (numeric value).\n",
        "\n",
        "- Left margin for the map (numeric value).\n",
        "\n",
        "- Top margin for the map (numeric value).\n",
        "\n",
        "- The background style of the line plot which should be a text value enclosed within single-quotes (`''`) or double-quotes (`\"\"`). Here is the list of most commonly used background styles:\n",
        "\n",
        "  1. `'OpenStreetMap'`\n",
        "\n",
        "  2. `'Stamen Terrain'`\n",
        "\n",
        "  3. `'Stamen Toner'`\n",
        "\n",
        "- Initial zoom in value (a numeric value)\n",
        "\n",
        "- Colour of the circles on the map should be a text value enclosed within single-quotes (`''`) or double-quotes (`\"\"`). Here's the list of most commonly used colours:\n",
        "\n",
        "  1. `'red'`\n",
        "  \n",
        "  2. `'blue'` \n",
        "  \n",
        "  3. `'magenta'`\n",
        "\n",
        "  4. `'yellow'`\n",
        "\n",
        "  5. `'green'`\n",
        "\n",
        "- Whether you want the map to have a minimap or not; `True` for **yes** and `False` for **no**.\n"
      ]
    },
    {
      "cell_type": "code",
      "metadata": {
        "id": "JWAxL5giKQuB",
        "colab_type": "code",
        "colab": {
          "base_uri": "https://localhost:8080/",
          "height": 404
        },
        "outputId": "a1af9ce8-d0b3-4ffa-9faf-eb8485391d18"
      },
      "source": [
        "# Student Action: Create a map for India to show the state-wise total confirmed cases of coronavirus.\n",
        "folium_map_with_circles('Abhishek',\"India\",1300,700,2,2,'Stamen Toner',4,'red',False)\n"
      ],
      "execution_count": null,
      "outputs": [
        {
          "output_type": "execute_result",
          "data": {
            "text/html": [
              "<div style=\"width:100%;\"><div style=\"position:relative;width:100%;height:0;padding-bottom:60%;\"><span style=\"color:#565656\">Make this Notebook Trusted to load map: File -> Trust Notebook</span><iframe src=\"about:blank\" style=\"position:absolute;width:100%;height:100%;left:0;top:0;border:none !important;\" data-html=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 onload=\"this.contentDocument.open();this.contentDocument.write(atob(this.getAttribute('data-html')));this.contentDocument.close();\" allowfullscreen webkitallowfullscreen mozallowfullscreen></iframe></div></div>"
            ],
            "text/plain": [
              "<folium.folium.Map at 0x7fea10a43a58>"
            ]
          },
          "metadata": {
            "tags": []
          },
          "execution_count": 9
        }
      ]
    },
    {
      "cell_type": "markdown",
      "metadata": {
        "id": "Pcb7pRe5eeJJ",
        "colab_type": "text"
      },
      "source": [
        "**Note:** The `folium_map_with_circles()` function is NOT a standard Python function. It is a user-defined function created at WhiteHat Jr using Python to simplify the map creation process. You will learn to create your own user-defined function in the subsequent classes in this course.\n",
        "\n",
        "Let's export the above map as an HTML file. You can make it a web page like a website and share with your parents or friends. To do this, you need to use the `save()` function which is a standard Python function. The input to this function should be a path (or location) of the directory where you want to store the HTML file. Also, name the file as `index.html`. This is very important."
      ]
    },
    {
      "cell_type": "code",
      "metadata": {
        "id": "0Y1VFs1vWcL2",
        "colab_type": "code",
        "colab": {}
      },
      "source": [
        "# Student Action: Export the world map as an HTML file. \n",
        "india_map = folium_map_with_circles('Abhishek',\"India\",1300,700,2,2,'Stamen Toner',4,'red',False)\n",
        "india_map.save('/content/index.html')"
      ],
      "execution_count": null,
      "outputs": []
    },
    {
      "cell_type": "markdown",
      "metadata": {
        "id": "XQS9oIkAFw6u",
        "colab_type": "text"
      },
      "source": [
        "---"
      ]
    }
  ]
}